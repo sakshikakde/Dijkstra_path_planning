{
 "metadata": {
  "language_info": {
   "codemirror_mode": {
    "name": "ipython",
    "version": 3
   },
   "file_extension": ".py",
   "mimetype": "text/x-python",
   "name": "python",
   "nbconvert_exporter": "python",
   "pygments_lexer": "ipython3",
   "version": "3.6.9-final"
  },
  "orig_nbformat": 2,
  "kernelspec": {
   "name": "python3",
   "display_name": "Python 3.6.9 64-bit",
   "metadata": {
    "interpreter": {
     "hash": "31f2aee4e71d21fbe5cf8b01ff0e069b9275f58929596ceb00d14d90e3e16cd6"
    }
   }
  }
 },
 "nbformat": 4,
 "nbformat_minor": 2,
 "cells": [
  {
   "cell_type": "code",
   "execution_count": 2,
   "metadata": {},
   "outputs": [],
   "source": [
    "\n",
    "import numpy as np\n",
    "import timeit\n",
    "import argparse\n",
    "import cv2\n",
    "import matplotlib.pyplot as plt\n",
    "import math\n",
    "# from Obstacle import *"
   ]
  },
  {
   "cell_type": "code",
   "execution_count": null,
   "metadata": {},
   "outputs": [],
   "source": [
    "class Node():\n",
    "    def __init__(self, state, parent, move, cost): \n",
    "\n",
    "        self.state = state\n",
    "        self.parent = parent\n",
    "        self.move = move\n",
    "        self.cost = cost\n",
    "        \n",
    "    def getState(self):\n",
    "        return self.state\n",
    "\t\t\n",
    "    def getParent(self):\n",
    "        return self.parent\n",
    "\t\t\n",
    "    def getMove(self):\n",
    "\t    return self.move\n",
    "\t\t\n",
    "    def getCost(self):\n",
    "        return self.cost\n",
    "\n",
    "    def getFullPath(self):\n",
    "        \n",
    "        moves = []\n",
    "        nodes = []\n",
    "        current_node = self\n",
    "        while(current_node.getMove() is not None):\n",
    "\n",
    "            moves.append(current_node.getMove())\n",
    "            nodes.append(current_node)\n",
    "            current_node = current_node.getParent()\n",
    "\n",
    "        nodes.append(current_node)\n",
    "        moves.reverse()\n",
    "        nodes.reverse()\n",
    "        \n",
    "        return moves, nodes\n",
    "\n",
    "    def printStats(self):\n",
    "        pass"
   ]
  },
  {
   "cell_type": "code",
   "execution_count": 3,
   "metadata": {},
   "outputs": [],
   "source": [
    "def find_moves(i,j, obj):\n",
    "    moves = ['N','NE', 'E', 'SE', 'S', 'SW','W', 'NW']\n",
    "    final_moves = ['N','NE', 'E', 'SE', 'S', 'SW','W', 'NW']\n",
    "    move_i = [i, i+1, i+1, i+1, i, i-1, i-1, i-1]\n",
    "    move_j = [j+1, j+1, j, j-1, j-1, j-1, j, j+1]\n",
    "    for move in range(len(moves)):\n",
    "        if (isInObstacleSpace(move_i[move], move_j[move]) or obj.parent_state == [move_i[move], move_j[move]]):\n",
    "            final_moves.remove(moves[move])\n",
    "    #print(final_moves)\n",
    "    return final_moves"
   ]
  },
  {
   "cell_type": "code",
   "execution_count": null,
   "metadata": {},
   "outputs": [],
   "source": [
    "def isInObstacleSpace(i,j):\n",
    "\n",
    "    if (i > 399 or i < 0 or j < 0 or j > 299):\n",
    "        print('Tending out of boundary ; avoid')\n",
    "        return 1\n",
    "\n",
    "    #condition for cicle\n",
    "    circle = (i-90)**2 + (j-70)**2\n",
    "    if circle <= 1225:\n",
    "        print('Tending towards circle ; avoid')\n",
    "        return 1\n",
    "\n",
    "    #condition for ellipse\n",
    "    ellipse = ((i-246)**2)/(60*60) + ((j-145)**2)/(30*30)\n",
    "    if ellipse <= 1.0:\n",
    "        print('Tending towards ellipse ; avoid')\n",
    "        return 1\n",
    "\n",
    "    #condition for rectangle\n",
    "    d1 = abs((j - 0.7002*i - 74.39) / (1 + (0.7002)**2)**(0.5))\n",
    "    d2 = abs((j - 0.7002*i - 98.8) / (1 + (0.7002)**2)**(0.5))\n",
    "    d3 = abs((j + 1.428*i - 176.55) / (1 + (1.428)**2)**(0.5))\n",
    "    d4 = abs((j + 1.428*i - 439.44) / (1 + (1.428)**2)**(0.5))\n",
    "    if (d1+d2 <= 22.0 and d3+d4 <= 152.0):\n",
    "        print('Tending towards rectangle ; avoid')\n",
    "        return 1\n",
    "\n",
    "    elif ((x - c_offset_x) >=0) and ((x - c_offset_x) <= c_length_x) and ((y - c_offset_y) <= 0) and ((c_offset_y - y) <= c_length_y): #c shape\n",
    "        if ((x - c_offset_x) <= c_width) or ((c_offset_y - y) <= c_width) or ((c_offset_y - y) >= c_length_y - c_width):\n",
    "            return False\n",
    "        else:\n",
    "            return True\n",
    "\n",
    "    return 0\n"
   ]
  }
 ]
}