{
 "metadata": {
  "language_info": {
   "codemirror_mode": {
    "name": "ipython",
    "version": 3
   },
   "file_extension": ".py",
   "mimetype": "text/x-python",
   "name": "python",
   "nbconvert_exporter": "python",
   "pygments_lexer": "ipython3",
   "version": "3.6.9-final"
  },
  "orig_nbformat": 2,
  "kernelspec": {
   "name": "python3",
   "display_name": "Python 3.6.9 64-bit",
   "metadata": {
    "interpreter": {
     "hash": "31f2aee4e71d21fbe5cf8b01ff0e069b9275f58929596ceb00d14d90e3e16cd6"
    }
   }
  }
 },
 "nbformat": 4,
 "nbformat_minor": 2,
 "cells": [
  {
   "cell_type": "code",
   "execution_count": 1,
   "metadata": {},
   "outputs": [],
   "source": [
    "\n",
    "import numpy as np\n",
    "import timeit\n",
    "import argparse\n",
    "import cv2\n",
    "import matplotlib.pyplot as plt\n",
    "import math\n",
    "import queue"
   ]
  },
  {
   "cell_type": "code",
   "execution_count": 2,
   "metadata": {},
   "outputs": [],
   "source": [
    "class Node():\n",
    "    def __init__(self, state, parent, move, cost): \n",
    "\n",
    "        self.state = state\n",
    "        self.parent = parent\n",
    "        self.move = move\n",
    "        self.cost = cost\n",
    "        # self.parent_state = parent_state\n",
    "        \n",
    "    def getState(self):\n",
    "        return self.state\n",
    "\t\t\n",
    "    def getParent(self):\n",
    "        return self.parent\n",
    "\n",
    "    def getParentState(self):\n",
    "        if self.getParent() is None:\n",
    "            return None\n",
    "        return self.getParent().getState()\n",
    "\t\t\n",
    "    def getMove(self):\n",
    "\t    return self.move\n",
    "\t\t\n",
    "    def getCost(self):\n",
    "        return self.cost\n",
    "\n",
    "    def getFullPath(self):\n",
    "        \n",
    "        moves = []\n",
    "        nodes = []\n",
    "        current_node = self\n",
    "        while(current_node.getMove() is not None):\n",
    "\n",
    "            moves.append(current_node.getMove())\n",
    "            nodes.append(current_node)\n",
    "            current_node = current_node.getParent()\n",
    "\n",
    "        nodes.append(current_node)\n",
    "        moves.reverse()\n",
    "        nodes.reverse()\n",
    "        \n",
    "        return moves, nodes\n",
    "\n",
    "    def printStats(self):\n",
    "        pass"
   ]
  },
  {
   "cell_type": "code",
   "execution_count": 3,
   "metadata": {},
   "outputs": [],
   "source": [
    "def find_moves(current_node):\n",
    "    i, j = current_node.getState()\n",
    "    moves = ['N','NE', 'E', 'SE', 'S', 'SW','W', 'NW']\n",
    "    final_moves = ['N','NE', 'E', 'SE', 'S', 'SW','W', 'NW']\n",
    "    move_i = [i, i+1, i+1, i+1, i, i-1, i-1, i-1]\n",
    "    move_j = [j+1, j+1, j, j-1, j-1, j-1, j, j+1]\n",
    "    for move in range(len(moves)):\n",
    "        if (isInObstacleSpace(move_i[move], move_j[move]) or current_node.getParentState() == [move_i[move], move_j[move]]):\n",
    "            final_moves.remove(moves[move])\n",
    "    print(final_moves)\n",
    "    return final_moves"
   ]
  },
  {
   "cell_type": "code",
   "execution_count": 4,
   "metadata": {},
   "outputs": [],
   "source": [
    "def isInObstacleSpace(i,j):\n",
    "\n",
    "    if (i > 399 or i < 0 or j < 0 or j > 299):\n",
    "        print('Tending out of boundary ; avoid')\n",
    "        return 1\n",
    "\n",
    "    #condition for cicle\n",
    "    circle = (i-90)**2 + (j-70)**2\n",
    "    if circle <= 1225:\n",
    "        print('Tending towards circle ; avoid')\n",
    "        return 1\n",
    "\n",
    "    #condition for ellipse\n",
    "    ellipse = ((i-246)**2)/(60*60) + ((j-145)**2)/(30*30)\n",
    "    if ellipse <= 1.0:\n",
    "        print('Tending towards ellipse ; avoid')\n",
    "        return 1\n",
    "\n",
    "    #condition for rectangle\n",
    "    d1 = abs((j - 0.7002*i - 74.39) / (1 + (0.7002)**2)**(0.5))\n",
    "    d2 = abs((j - 0.7002*i - 98.8) / (1 + (0.7002)**2)**(0.5))\n",
    "    d3 = abs((j + 1.428*i - 176.55) / (1 + (1.428)**2)**(0.5))\n",
    "    d4 = abs((j + 1.428*i - 439.44) / (1 + (1.428)**2)**(0.5))\n",
    "    if (d1+d2 <= 22.0 and d3+d4 <= 152.0):\n",
    "        print('Tending towards rectangle ; avoid')\n",
    "        return 1\n",
    "\n",
    "    #condition for C shaped object\n",
    "    if ((i-200 >= 0 and 280-i >=0 and (j >= 230 and j <= 280)) and\n",
    "        ((j-230 >= 0 or 280-j <=0) and (i >= 200 and i <= 230)) and\n",
    "        not (i-210 >=0 and i-230<=0 and j>=240 and j<=270)):\n",
    "        print('Tending towards C shaped object; avoid')\n",
    "        return 1\n",
    "    \n",
    "    return 0\n"
   ]
  },
  {
   "cell_type": "code",
   "execution_count": 5,
   "metadata": {},
   "outputs": [],
   "source": [
    "node_array = np.array([[Node([i,j], None, None, math.inf) for j in range(300)] for i in range(400)])"
   ]
  },
  {
   "cell_type": "code",
   "execution_count": 30,
   "metadata": {},
   "outputs": [],
   "source": [
    "start_point = [2,2]\n",
    "goal_point = [5,5]\n",
    "nodes = queue.PriorityQueue()\n",
    "init_node = Node(start_point, None, None, 0)\n",
    "\n",
    "nodes.put((init_node.getCost(), init_node))\n",
    "\n",
    "root2 = np.sqrt(2)\n",
    "\n",
    "goal_reached = False\n",
    "\n",
    "moves_cost = {'N':1, 'NE':root2, 'E':1, 'SE':root2, 'S':1, 'SW':root2, 'W':1, 'NW':root2}\n"
   ]
  },
  {
   "cell_type": "code",
   "execution_count": 31,
   "metadata": {},
   "outputs": [
    {
     "output_type": "stream",
     "name": "stdout",
     "text": [
      "['N', 'NE', 'E', 'SE', 'S', 'SW', 'W', 'NW']\n['N', 'NE', 'E', 'S', 'SW', 'W', 'NW']\n"
     ]
    },
    {
     "output_type": "error",
     "ename": "TypeError",
     "evalue": "'<' not supported between instances of 'Node' and 'Node'",
     "traceback": [
      "\u001b[0;31m---------------------------------------------------------------------------\u001b[0m",
      "\u001b[0;31mTypeError\u001b[0m                                 Traceback (most recent call last)",
      "\u001b[0;32m<ipython-input-31-c2a8f5167551>\u001b[0m in \u001b[0;36m<module>\u001b[0;34m\u001b[0m\n\u001b[1;32m     26\u001b[0m                 \u001b[0mchild_node\u001b[0m \u001b[0;34m=\u001b[0m \u001b[0mNode\u001b[0m\u001b[0;34m(\u001b[0m\u001b[0mchild_state\u001b[0m\u001b[0;34m,\u001b[0m \u001b[0mcurrent_node\u001b[0m\u001b[0;34m,\u001b[0m \u001b[0mmove\u001b[0m\u001b[0;34m,\u001b[0m \u001b[0mnew_cost\u001b[0m\u001b[0;34m)\u001b[0m\u001b[0;34m\u001b[0m\u001b[0;34m\u001b[0m\u001b[0m\n\u001b[1;32m     27\u001b[0m                 \u001b[0mnode_array\u001b[0m\u001b[0;34m[\u001b[0m\u001b[0mchild_state\u001b[0m\u001b[0;34m[\u001b[0m\u001b[0;36m0\u001b[0m\u001b[0;34m]\u001b[0m\u001b[0;34m,\u001b[0m \u001b[0mchild_state\u001b[0m\u001b[0;34m[\u001b[0m\u001b[0;36m1\u001b[0m\u001b[0;34m]\u001b[0m\u001b[0;34m]\u001b[0m \u001b[0;34m=\u001b[0m \u001b[0mchild_node\u001b[0m\u001b[0;34m\u001b[0m\u001b[0;34m\u001b[0m\u001b[0m\n\u001b[0;32m---> 28\u001b[0;31m                 \u001b[0mnodes\u001b[0m\u001b[0;34m.\u001b[0m\u001b[0mput\u001b[0m\u001b[0;34m(\u001b[0m\u001b[0;34m(\u001b[0m\u001b[0;36m2\u001b[0m\u001b[0;34m,\u001b[0m \u001b[0mchild_node\u001b[0m\u001b[0;34m)\u001b[0m\u001b[0;34m)\u001b[0m\u001b[0;34m\u001b[0m\u001b[0;34m\u001b[0m\u001b[0m\n\u001b[0m\u001b[1;32m     29\u001b[0m             \u001b[0;32melse\u001b[0m \u001b[0;34m:\u001b[0m\u001b[0;34m\u001b[0m\u001b[0;34m\u001b[0m\u001b[0m\n\u001b[1;32m     30\u001b[0m                 \u001b[0;32mif\u001b[0m \u001b[0;34m(\u001b[0m\u001b[0mnew_cost\u001b[0m \u001b[0;34m<\u001b[0m \u001b[0mnode_array\u001b[0m\u001b[0;34m[\u001b[0m\u001b[0mchild_state\u001b[0m\u001b[0;34m[\u001b[0m\u001b[0;36m0\u001b[0m\u001b[0;34m]\u001b[0m\u001b[0;34m,\u001b[0m \u001b[0mchild_state\u001b[0m\u001b[0;34m[\u001b[0m\u001b[0;36m1\u001b[0m\u001b[0;34m]\u001b[0m\u001b[0;34m]\u001b[0m\u001b[0;34m.\u001b[0m\u001b[0mgetCost\u001b[0m\u001b[0;34m(\u001b[0m\u001b[0;34m)\u001b[0m\u001b[0;34m)\u001b[0m\u001b[0;34m:\u001b[0m\u001b[0;34m\u001b[0m\u001b[0;34m\u001b[0m\u001b[0m\n",
      "\u001b[0;32m/usr/lib/python3.6/queue.py\u001b[0m in \u001b[0;36mput\u001b[0;34m(self, item, block, timeout)\u001b[0m\n\u001b[1;32m    141\u001b[0m                             \u001b[0;32mraise\u001b[0m \u001b[0mFull\u001b[0m\u001b[0;34m\u001b[0m\u001b[0;34m\u001b[0m\u001b[0m\n\u001b[1;32m    142\u001b[0m                         \u001b[0mself\u001b[0m\u001b[0;34m.\u001b[0m\u001b[0mnot_full\u001b[0m\u001b[0;34m.\u001b[0m\u001b[0mwait\u001b[0m\u001b[0;34m(\u001b[0m\u001b[0mremaining\u001b[0m\u001b[0;34m)\u001b[0m\u001b[0;34m\u001b[0m\u001b[0;34m\u001b[0m\u001b[0m\n\u001b[0;32m--> 143\u001b[0;31m             \u001b[0mself\u001b[0m\u001b[0;34m.\u001b[0m\u001b[0m_put\u001b[0m\u001b[0;34m(\u001b[0m\u001b[0mitem\u001b[0m\u001b[0;34m)\u001b[0m\u001b[0;34m\u001b[0m\u001b[0;34m\u001b[0m\u001b[0m\n\u001b[0m\u001b[1;32m    144\u001b[0m             \u001b[0mself\u001b[0m\u001b[0;34m.\u001b[0m\u001b[0munfinished_tasks\u001b[0m \u001b[0;34m+=\u001b[0m \u001b[0;36m1\u001b[0m\u001b[0;34m\u001b[0m\u001b[0;34m\u001b[0m\u001b[0m\n\u001b[1;32m    145\u001b[0m             \u001b[0mself\u001b[0m\u001b[0;34m.\u001b[0m\u001b[0mnot_empty\u001b[0m\u001b[0;34m.\u001b[0m\u001b[0mnotify\u001b[0m\u001b[0;34m(\u001b[0m\u001b[0;34m)\u001b[0m\u001b[0;34m\u001b[0m\u001b[0;34m\u001b[0m\u001b[0m\n",
      "\u001b[0;32m/usr/lib/python3.6/queue.py\u001b[0m in \u001b[0;36m_put\u001b[0;34m(self, item)\u001b[0m\n\u001b[1;32m    225\u001b[0m \u001b[0;34m\u001b[0m\u001b[0m\n\u001b[1;32m    226\u001b[0m     \u001b[0;32mdef\u001b[0m \u001b[0m_put\u001b[0m\u001b[0;34m(\u001b[0m\u001b[0mself\u001b[0m\u001b[0;34m,\u001b[0m \u001b[0mitem\u001b[0m\u001b[0;34m)\u001b[0m\u001b[0;34m:\u001b[0m\u001b[0;34m\u001b[0m\u001b[0;34m\u001b[0m\u001b[0m\n\u001b[0;32m--> 227\u001b[0;31m         \u001b[0mheappush\u001b[0m\u001b[0;34m(\u001b[0m\u001b[0mself\u001b[0m\u001b[0;34m.\u001b[0m\u001b[0mqueue\u001b[0m\u001b[0;34m,\u001b[0m \u001b[0mitem\u001b[0m\u001b[0;34m)\u001b[0m\u001b[0;34m\u001b[0m\u001b[0;34m\u001b[0m\u001b[0m\n\u001b[0m\u001b[1;32m    228\u001b[0m \u001b[0;34m\u001b[0m\u001b[0m\n\u001b[1;32m    229\u001b[0m     \u001b[0;32mdef\u001b[0m \u001b[0m_get\u001b[0m\u001b[0;34m(\u001b[0m\u001b[0mself\u001b[0m\u001b[0;34m)\u001b[0m\u001b[0;34m:\u001b[0m\u001b[0;34m\u001b[0m\u001b[0;34m\u001b[0m\u001b[0m\n",
      "\u001b[0;31mTypeError\u001b[0m: '<' not supported between instances of 'Node' and 'Node'"
     ]
    }
   ],
   "source": [
    "while (not nodes.empty()):\n",
    "    current_node = nodes.get()[1]\n",
    "    i, j = current_node.getState()\n",
    "\n",
    "    #define moves list\n",
    "    moves_i = {'N':i, 'NE':i+1, 'E':i+1, 'SE':i+1, 'S':i, 'SW':i-1, 'W':i-1, 'NW':i-1}\n",
    "    moves_j = {'N':j+1, 'NE':j+1, 'E':j, 'SE':j-1, 'S':j-1, 'SW':j-1, 'W':j, 'NW':j+1}\n",
    "\n",
    "    if (current_node.getState() == goal_point):\n",
    "        print('Goal reached')\n",
    "        print(\"Total number of nodes explored:\", len(visited_states))\n",
    "        print(\"The cost of path: \", current_node.getCost())\n",
    "        full_path, node_path = current_node.getFullPath()\n",
    "        goal_reached = True\n",
    "        break\n",
    "    else:\n",
    "        # find the moves from the current position\n",
    "        moves = find_moves(current_node)\n",
    "        parent_cost = current_node.getCost()\n",
    "        # iterate through each move and find corresponding child\n",
    "        for move in moves:\n",
    "            child_state = [moves_i.get(move), moves_j.get(move)]\n",
    "            new_cost = parent_cost + moves_cost.get(move)\n",
    "            # if not visited\n",
    "            if (node_array[child_state[0], child_state[1]].getCost() == math.inf):\n",
    "                child_node = Node(child_state, current_node, move, new_cost)\n",
    "                node_array[child_state[0], child_state[1]] = child_node\n",
    "                nodes.put((child_node.getCost(), child_node))\n",
    "            else :\n",
    "                if (new_cost < node_array[child_state[0], child_state[1]].getCost()):\n",
    "                    child_node = Node(child_state, current_node, move, new_cost)\n",
    "                    node_array[child_state[0], child_state[1]] = child_node\n",
    "    \n",
    "    if (goal_reached): break\n",
    "    "
   ]
  },
  {
   "cell_type": "code",
   "execution_count": 18,
   "metadata": {},
   "outputs": [],
   "source": [
    "current_node = nodes.get()[1]"
   ]
  },
  {
   "cell_type": "code",
   "execution_count": 19,
   "metadata": {},
   "outputs": [
    {
     "output_type": "execute_result",
     "data": {
      "text/plain": [
       "True"
      ]
     },
     "metadata": {},
     "execution_count": 19
    }
   ],
   "source": [
    "nodes.empty()"
   ]
  },
  {
   "cell_type": "code",
   "execution_count": null,
   "metadata": {},
   "outputs": [],
   "source": []
  }
 ]
}