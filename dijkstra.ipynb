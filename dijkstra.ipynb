{
 "metadata": {
  "language_info": {
   "codemirror_mode": {
    "name": "ipython",
    "version": 3
   },
   "file_extension": ".py",
   "mimetype": "text/x-python",
   "name": "python",
   "nbconvert_exporter": "python",
   "pygments_lexer": "ipython3",
   "version": "3.6.9-final"
  },
  "orig_nbformat": 2,
  "kernelspec": {
   "name": "python3",
   "display_name": "Python 3",
   "language": "python"
  }
 },
 "nbformat": 4,
 "nbformat_minor": 2,
 "cells": [
  {
   "cell_type": "code",
   "execution_count": 1,
   "metadata": {},
   "outputs": [],
   "source": [
    "\n",
    "import numpy as np\n",
    "import timeit\n",
    "import argparse\n",
    "import cv2\n",
    "import matplotlib.pyplot as plt\n",
    "import math\n",
    "import queue\n",
    "from Obstacle import *"
   ]
  },
  {
   "cell_type": "code",
   "execution_count": 2,
   "metadata": {},
   "outputs": [],
   "source": [
    "class Node():\n",
    "    def __init__(self, state, parent, move, cost): \n",
    "\n",
    "        self.state = state\n",
    "        self.parent = parent\n",
    "        self.move = move\n",
    "        self.cost = cost\n",
    "        # self.parent_state = parent_state\n",
    "        \n",
    "    def getState(self):\n",
    "        return self.state\n",
    "\t\t\n",
    "    def getParent(self):\n",
    "        return self.parent\n",
    "\n",
    "    def getParentState(self):\n",
    "        if self.getParent() is None:\n",
    "            return None\n",
    "        return self.getParent().getState()\n",
    "\t\t\n",
    "    def getMove(self):\n",
    "\t    return self.move\n",
    "\t\t\n",
    "    def getCost(self):\n",
    "        return self.cost\n",
    "\n",
    "    def getFullPath(self):\n",
    "        \n",
    "        moves = []\n",
    "        nodes = []\n",
    "        current_node = self\n",
    "        while(current_node.getMove() is not None):\n",
    "\n",
    "            moves.append(current_node.getMove())\n",
    "            nodes.append(current_node)\n",
    "            current_node = current_node.getParent()\n",
    "\n",
    "        nodes.append(current_node)\n",
    "        moves.reverse()\n",
    "        nodes.reverse()\n",
    "        \n",
    "        return moves, nodes\n",
    "\n",
    "    def printStats(self):\n",
    "        pass\n",
    "    def __lt__(self,other):\n",
    "        return self.getState() < other.getState()"
   ]
  },
  {
   "cell_type": "code",
   "execution_count": 3,
   "metadata": {},
   "outputs": [],
   "source": [
    "def find_moves(current_node):\n",
    "    i, j = current_node.getState()\n",
    "    moves = ['N','NE', 'E', 'SE', 'S', 'SW','W', 'NW']\n",
    "    final_moves = ['N','NE', 'E', 'SE', 'S', 'SW','W', 'NW']\n",
    "    move_i = [i, i+1, i+1, i+1, i, i-1, i-1, i-1]\n",
    "    move_j = [j+1, j+1, j, j-1, j-1, j-1, j, j+1]\n",
    "    for move in range(len(moves)):\n",
    "        if (isInObstacleSpace(move_i[move], move_j[move]) or current_node.getParentState() == [move_i[move], move_j[move]]):\n",
    "            final_moves.remove(moves[move])\n",
    "    # print(final_moves)\n",
    "    return final_moves"
   ]
  },
  {
   "cell_type": "code",
   "execution_count": 4,
   "metadata": {},
   "outputs": [],
   "source": [
    "def updateMap(space_map, state, color):\n",
    "    X, Y, _ = space_map.shape\n",
    "    transformed_y = state[0]\n",
    "    transformed_x = X - state[1] -1\n",
    "    space_map[transformed_x, transformed_y, :] = color \n",
    "    return space_map"
   ]
  },
  {
   "cell_type": "code",
   "execution_count": 5,
   "metadata": {},
   "outputs": [],
   "source": [
    "def addObstacles2Map(space_map):\n",
    "\n",
    "    #circle\n",
    "    for i in range(circle_offset_x - circle_radius, circle_offset_x + circle_radius):\n",
    "        for j in range(circle_offset_y - circle_radius, circle_offset_y + circle_radius):\n",
    "            if (i - circle_offset_x) **2 + (j - circle_offset_y)**2 <= circle_radius**2:\n",
    "                updateMap(space_map, [i, j], [255, 0, 0])\n",
    "\n",
    "    #ellipse\n",
    "    for i in range(ellipse_offset_x - ellipse_radius_x, ellipse_offset_x + ellipse_radius_x):\n",
    "        for j in range(ellipse_offset_y - ellipse_radius_y, ellipse_offset_y + ellipse_radius_y):\n",
    "            if ((i - ellipse_offset_x)/ellipse_radius_x) **2 + ((j - ellipse_offset_y)/ellipse_radius_y)**2 <= 1:\n",
    "                updateMap(space_map, [i, j], [255, 0, 0])\n",
    "\n",
    "\n",
    "    #C shape\n",
    "    for i in range(c_offset_x, c_offset_x + c_length_x):\n",
    "        for j in range(c_offset_y - c_length_y, c_offset_y):\n",
    "            if (i <= (c_offset_x + c_width)):\n",
    "                updateMap(space_map, [i, j], [255, 0, 0])\n",
    "            if (j >= c_offset_y - c_width) or (j <= c_offset_y - c_height - c_width):\n",
    "                updateMap(space_map, [i, j], [255, 0, 0])\n",
    "\n",
    "    # rectangle\n",
    "    for i in range(rect_x_min, rect_x_max):\n",
    "        for j in range(rect_y_min, rect_y_max):\n",
    "            if (j >= (np.tan(rect_angle) * (i -rect_corner1_x)  + rect_corner1_y)) and (j <= (np.tan(rect_angle) * (i -rect_corner4_x)  + rect_corner4_y)):\n",
    "                if (j >= (-np.tan(np.pi/2 - rect_angle) * (i -rect_corner4_x)  + rect_corner4_y)) and (j <= (-np.tan(np.pi/2 - rect_angle) * (i -rect_corner3_x)  + rect_corner3_y)):\n",
    "                    updateMap(space_map, [i, j], [255, 0, 0])\n",
    "\n",
    "    return space_map"
   ]
  },
  {
   "cell_type": "code",
   "execution_count": 6,
   "metadata": {},
   "outputs": [],
   "source": [
    "def isInObstacleSpace(i,j):\n",
    "    total_clearance = 15\n",
    "    if (i > 399 or i < 0 or j < 0 or j > 299):\n",
    "        # print('Tending out of boundary ; avoid')\n",
    "        return 1\n",
    "\n",
    "    #condition for cicle\n",
    "    circle = (i - circle_offset_x)**2 + (j - circle_offset_y)**2\n",
    "    if circle <= (circle_radius + total_clearance) ** 2:\n",
    "        # print('Tending towards circle ; avoid')\n",
    "        return 1\n",
    "\n",
    "    #condition for ellipse\n",
    "    ellipse_r_x = ellipse_radius_x + total_clearance\n",
    "    ellipse_r_y = ellipse_radius_y + total_clearance\n",
    "    ellipse = ((i - ellipse_offset_x)**2)/(ellipse_r_x*ellipse_r_x) + ((j- ellipse_offset_y)**2)/(ellipse_r_y*ellipse_r_y)\n",
    "    if ellipse <= 1.0:\n",
    "        # print('Tending towards ellipse ; avoid')\n",
    "        return 1\n",
    "\n",
    "    #condition for rectangle\n",
    "    d1 = abs((j - 0.7002*i - 74.39) / (1 + (0.7002)**2)**(0.5))\n",
    "    d2 = abs((j - 0.7002*i - 98.8) / (1 + (0.7002)**2)**(0.5))\n",
    "    d3 = abs((j + 1.428*i - 176.55) / (1 + (1.428)**2)**(0.5))\n",
    "    d4 = abs((j + 1.428*i - 439.44) / (1 + (1.428)**2)**(0.5))\n",
    "    if (d1+d2 <= rect_width + (total_clearance * 2) and d3+d4 <= rect_length + (total_clearance * 2)):\n",
    "        # print('Tending towards rectangle ; avoid')\n",
    "        return 1\n",
    "\n",
    "    # #condition for C shaped object\n",
    "    # if ((i-200 >= 0 and 280-i >=0 and (j >= 230 and j <= 280)) and\n",
    "    #     ((j-230 >= 0 or 280-j <=0) and (i >= 200 and i <= 230)) and\n",
    "    #     not (i-210 >=0 and i-230<=0 and j>=240 and j<=270)):\n",
    "    #     # print('Tending towards C shaped object; avoid')\n",
    "    #     return 1\n",
    "    if ((i - (200 - total_clearance) >= 0 and (230 + total_clearance)-i >=0 and (j >= (230 - total_clearance) and j <= (280 + total_clearance))) and\n",
    "    ((j- (230 - total_clearance) >= 0 or (280 + total_clearance)-j <=0) and (i >= (200 - total_clearance) and i <= (230 + total_clearance))) and\n",
    "    not (i-(210 + total_clearance) >=0 and i-230<=0 and j>=(240 + total_clearance) and j<= (270 - total_clearance))):\n",
    "    # print('Tending towards C shaped object; avoid')\n",
    "        return 1\n",
    "    \n",
    "    return 0\n"
   ]
  },
  {
   "cell_type": "code",
   "execution_count": 7,
   "metadata": {},
   "outputs": [
    {
     "output_type": "execute_result",
     "data": {
      "text/plain": [
       "60"
      ]
     },
     "metadata": {},
     "execution_count": 7
    }
   ],
   "source": [
    "ellipse_radius_x"
   ]
  },
  {
   "cell_type": "code",
   "execution_count": 8,
   "metadata": {},
   "outputs": [],
   "source": [
    "node_array = np.array([[Node([i,j], None, None, math.inf) for j in range(300)] for i in range(400)])"
   ]
  },
  {
   "cell_type": "code",
   "execution_count": 9,
   "metadata": {},
   "outputs": [],
   "source": [
    "start_point = [150, 250]\n",
    "goal_point = [317, 256]\n",
    "nodes = queue.PriorityQueue()\n",
    "init_node = Node(start_point, None, None, 0)\n",
    "\n",
    "nodes.put((init_node.getCost(), init_node))\n",
    "\n",
    "root2 = np.sqrt(2)\n",
    "\n",
    "goal_reached = False\n",
    "\n",
    "moves_cost = {'N':1, 'NE':root2, 'E':1, 'SE':root2, 'S':1, 'SW':root2, 'W':1, 'NW':root2}\n"
   ]
  },
  {
   "cell_type": "code",
   "execution_count": 10,
   "metadata": {},
   "outputs": [],
   "source": [
    "space_size = [300, 400]\n",
    "space_map = np.zeros([space_size[0], space_size[1], 3], dtype=np.uint8)\n",
    "space_map = updateMap(space_map, start_point, [0,0,255])\n",
    "space_map = updateMap(space_map, goal_point, [0,0,255])\n",
    "space_map = addObstacles2Map(space_map)\n",
    "# space_map = updateMap(space_map, pos, [0, 0, 255])\n",
    "cv2.imshow(\"s\", space_map)\n",
    "cv2.waitKey() \n",
    "cv2.destroyAllWindows()"
   ]
  },
  {
   "cell_type": "code",
   "execution_count": 35,
   "metadata": {
    "tags": []
   },
   "outputs": [
    {
     "output_type": "stream",
     "name": "stdout",
     "text": [
      "Goal reached\nThe cost of path:  199.89444430272877\n"
     ]
    }
   ],
   "source": [
    "full_path = None\n",
    "while (not nodes.empty()):\n",
    "    current_node = nodes.get()[1]\n",
    "    i, j = current_node.getState()\n",
    "\n",
    "    space_map = updateMap(space_map, current_node.getState(), [0, 255, 0])\n",
    "    cv2.imshow('frame',space_map)\n",
    "    if cv2.waitKey(1) & 0xFF == ord('q'):\n",
    "        break\n",
    "\n",
    "    #define moves list\n",
    "    moves_i = {'N':i, 'NE':i+1, 'E':i+1, 'SE':i+1, 'S':i, 'SW':i-1, 'W':i-1, 'NW':i-1}\n",
    "    moves_j = {'N':j+1, 'NE':j+1, 'E':j, 'SE':j-1, 'S':j-1, 'SW':j-1, 'W':j, 'NW':j+1}\n",
    "\n",
    "    if (current_node.getState() == goal_point):\n",
    "        print('Goal reached')\n",
    "        print(\"The cost of path: \", current_node.getCost())\n",
    "        full_path, node_path = current_node.getFullPath()\n",
    "        goal_reached = True\n",
    "\n",
    "        for node in node_path:\n",
    "            pos = node.getState()\n",
    "            space_map = updateMap(space_map, pos, [0, 0, 255])\n",
    "            cv2.imshow('frame',space_map)\n",
    "            if cv2.waitKey(1) & 0xFF == ord('q'):\n",
    "                break\n",
    "\n",
    "        cv2.waitKey() \n",
    "        cv2.destroyAllWindows()\n",
    "        break\n",
    "    else:\n",
    "        # find the moves from the current position\n",
    "        moves = find_moves(current_node)\n",
    "        parent_cost = current_node.getCost()\n",
    "        # iterate through each move and find corresponding child\n",
    "        for move in moves:\n",
    "            child_state = [moves_i.get(move), moves_j.get(move)]\n",
    "            new_cost = parent_cost + moves_cost.get(move)\n",
    "            # if not visited\n",
    "            if (node_array[child_state[0], child_state[1]].getCost() == math.inf):\n",
    "                child_node = Node(child_state, current_node, move, new_cost)\n",
    "                node_array[child_state[0], child_state[1]] = child_node\n",
    "                nodes.put((child_node.getCost(), child_node))\n",
    "            else :\n",
    "                if (new_cost < node_array[child_state[0], child_state[1]].getCost()):\n",
    "                    child_node = Node(child_state, current_node, move, new_cost)\n",
    "                    node_array[child_state[0], child_state[1]] = child_node\n",
    "                    nodes.put((child_node.getCost(), child_node))\n",
    "    \n",
    "    if (goal_reached): break\n",
    "    "
   ]
  }
 ]
}