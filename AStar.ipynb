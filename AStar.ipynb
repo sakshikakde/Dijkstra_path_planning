{
 "metadata": {
  "language_info": {
   "codemirror_mode": {
    "name": "ipython",
    "version": 3
   },
   "file_extension": ".py",
   "mimetype": "text/x-python",
   "name": "python",
   "nbconvert_exporter": "python",
   "pygments_lexer": "ipython3",
   "version": "3.6.9-final"
  },
  "orig_nbformat": 2,
  "kernelspec": {
   "name": "python3",
   "display_name": "Python 3.6.9 64-bit",
   "metadata": {
    "interpreter": {
     "hash": "31f2aee4e71d21fbe5cf8b01ff0e069b9275f58929596ceb00d14d90e3e16cd6"
    }
   }
  }
 },
 "nbformat": 4,
 "nbformat_minor": 2,
 "cells": [
  {
   "cell_type": "code",
   "execution_count": 25,
   "metadata": {},
   "outputs": [],
   "source": [
    "import numpy as np\n",
    "import timeit\n",
    "import argparse\n",
    "import cv2\n",
    "import matplotlib.pyplot as plt\n",
    "import math\n",
    "import queue\n",
    "from Obstacle import *"
   ]
  },
  {
   "cell_type": "code",
   "execution_count": 26,
   "metadata": {},
   "outputs": [],
   "source": [
    "threshold = 0.5\n",
    "visited = np.zeros((int(400/threshold),int(300/threshold),12), dtype='int')"
   ]
  },
  {
   "cell_type": "code",
   "execution_count": 27,
   "metadata": {},
   "outputs": [],
   "source": [
    "def halfRound(n):\n",
    "    return round(2*n)/2"
   ]
  },
  {
   "cell_type": "code",
   "execution_count": 28,
   "metadata": {},
   "outputs": [],
   "source": [
    "def checkAndStoreInVisited(x, y, theta, threshold=0.5, thetaStep=30):\n",
    "    result = False\n",
    "    x = int(halfRound(x)/threshold)\n",
    "    y = int(halfRound(y)/threshold)\n",
    "    theta = int(theta/thetaStep)\n",
    "    if(visited[x,y,theta] == 0):\n",
    "        visited[x,y,theta] = 1\n",
    "        result = True\n",
    "    return result"
   ]
  }
 ]
}